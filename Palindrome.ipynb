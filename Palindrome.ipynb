{
  "nbformat": 4,
  "nbformat_minor": 0,
  "metadata": {
    "colab": {
      "provenance": [],
      "authorship_tag": "ABX9TyNS1Uy7MbaeOs93+2LNsp23",
      "include_colab_link": true
    },
    "kernelspec": {
      "name": "python3",
      "display_name": "Python 3"
    },
    "language_info": {
      "name": "python"
    }
  },
  "cells": [
    {
      "cell_type": "markdown",
      "metadata": {
        "id": "view-in-github",
        "colab_type": "text"
      },
      "source": [
        "<a href=\"https://colab.research.google.com/github/vipinbhagat123/python-interview-questions/blob/main/Palindrome.ipynb\" target=\"_parent\"><img src=\"https://colab.research.google.com/assets/colab-badge.svg\" alt=\"Open In Colab\"/></a>"
      ]
    },
    {
      "cell_type": "code",
      "execution_count": 1,
      "metadata": {
        "colab": {
          "base_uri": "https://localhost:8080/"
        },
        "id": "4KS_43yyh2CG",
        "outputId": "64dfc748-52d7-4199-9ffb-e5eeb843e5cf"
      },
      "outputs": [
        {
          "output_type": "stream",
          "name": "stdout",
          "text": [
            "madam\n"
          ]
        }
      ],
      "source": [
        "k='madam'\n",
        "print(k)"
      ]
    },
    {
      "cell_type": "code",
      "source": [
        "k='madam'\n",
        "l=k[::-1]\n",
        "if l==k:\n",
        "  print('True')\n",
        "else:\n",
        "  print('False')"
      ],
      "metadata": {
        "colab": {
          "base_uri": "https://localhost:8080/"
        },
        "id": "Q4-nv23th8cC",
        "outputId": "896cf744-6dc8-475d-a592-b8976825e07b"
      },
      "execution_count": 6,
      "outputs": [
        {
          "output_type": "stream",
          "name": "stdout",
          "text": [
            "True\n"
          ]
        }
      ]
    },
    {
      "cell_type": "code",
      "source": [
        "def is_palindrom(s):\n",
        "  left =0\n",
        "  right=len(s)-1\n",
        "\n",
        "  while left<right:\n",
        "    if s[left]!=s[right]:\n",
        "      return False\n",
        "\n",
        "    left+=1\n",
        "    right-=1\n",
        "  return True\n",
        "\n",
        "s='madam'\n",
        "print(is_palindrom(s))\n"
      ],
      "metadata": {
        "colab": {
          "base_uri": "https://localhost:8080/"
        },
        "id": "_4tksy9NiFlt",
        "outputId": "afb2f4fb-e57e-4991-89a0-22b206b8c616"
      },
      "execution_count": 11,
      "outputs": [
        {
          "output_type": "stream",
          "name": "stdout",
          "text": [
            "True\n"
          ]
        }
      ]
    },
    {
      "cell_type": "code",
      "source": [
        "def palindrom(s):\n",
        "  left=0\n",
        "  right=len(s)-1\n",
        "\n",
        "  while left<right:\n",
        "    if s[left]!=s[right]:\n",
        "      return False\n",
        "    left+=1\n",
        "    right-=1\n",
        "  return True\n",
        "s='madam'\n",
        "print(is_palindrom(s))"
      ],
      "metadata": {
        "colab": {
          "base_uri": "https://localhost:8080/"
        },
        "id": "9uOeMveZi3tW",
        "outputId": "57772471-77ff-47a9-8e83-d2bd7ca06d20"
      },
      "execution_count": 12,
      "outputs": [
        {
          "output_type": "stream",
          "name": "stdout",
          "text": [
            "True\n"
          ]
        }
      ]
    },
    {
      "cell_type": "code",
      "source": [],
      "metadata": {
        "id": "gWT9634Ukab3"
      },
      "execution_count": null,
      "outputs": []
    }
  ]
}