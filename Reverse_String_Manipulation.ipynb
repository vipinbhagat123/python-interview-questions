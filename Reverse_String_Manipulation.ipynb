{
  "nbformat": 4,
  "nbformat_minor": 0,
  "metadata": {
    "colab": {
      "provenance": [],
      "authorship_tag": "ABX9TyNIEqF1+ylXLI3Hbdu1qg0P",
      "include_colab_link": true
    },
    "kernelspec": {
      "name": "python3",
      "display_name": "Python 3"
    },
    "language_info": {
      "name": "python"
    }
  },
  "cells": [
    {
      "cell_type": "markdown",
      "metadata": {
        "id": "view-in-github",
        "colab_type": "text"
      },
      "source": [
        "<a href=\"https://colab.research.google.com/github/vipinbhagat123/python-interview-questions/blob/main/Reverse_String_Manipulation.ipynb\" target=\"_parent\"><img src=\"https://colab.research.google.com/assets/colab-badge.svg\" alt=\"Open In Colab\"/></a>"
      ]
    },
    {
      "cell_type": "code",
      "execution_count": 1,
      "metadata": {
        "colab": {
          "base_uri": "https://localhost:8080/"
        },
        "id": "F0gjAvdqdcbv",
        "outputId": "e544b353-aaf3-4325-aa33-e6895d7d0a3d"
      },
      "outputs": [
        {
          "output_type": "stream",
          "name": "stdout",
          "text": [
            "skeeGroFskeeG\n"
          ]
        }
      ],
      "source": [
        "s='GeeksForGeeks'\n",
        "rev = s[::-1]\n",
        "print(rev)"
      ]
    },
    {
      "cell_type": "code",
      "source": [
        "s='GeeksForGeeks'\n",
        "rev = \"\".join(reversed(s))"
      ],
      "metadata": {
        "id": "C49OhibydjXR"
      },
      "execution_count": 2,
      "outputs": []
    },
    {
      "cell_type": "code",
      "source": [
        "s='GeeksForGeeks'\n",
        "rev=\"\"\n",
        "for i in s:\n",
        "  rev=i+rev\n",
        "print(rev)"
      ],
      "metadata": {
        "colab": {
          "base_uri": "https://localhost:8080/"
        },
        "id": "QeMlIRFgdo_-",
        "outputId": "fa2dbddd-6f3c-49ef-f6c1-ab714c200d61"
      },
      "execution_count": 4,
      "outputs": [
        {
          "output_type": "stream",
          "name": "stdout",
          "text": [
            "skeeGroFskeeG\n"
          ]
        }
      ]
    },
    {
      "cell_type": "code",
      "source": [
        "s='GeeksForGeeks'\n",
        "rev=''.join([s[i] for i in range(len(s)-1, -1, -1)])\n",
        "print(rev)"
      ],
      "metadata": {
        "colab": {
          "base_uri": "https://localhost:8080/"
        },
        "id": "zl38PiV7d4DM",
        "outputId": "eb3db39e-efea-4f31-d364-6fff4a188f6a"
      },
      "execution_count": 5,
      "outputs": [
        {
          "output_type": "stream",
          "name": "stdout",
          "text": [
            "skeeGroFskeeG\n"
          ]
        }
      ]
    },
    {
      "cell_type": "code",
      "source": [
        "s='GeeksForGeeks'\n",
        "stack=list(s)\n",
        "rev=''\n",
        "while stack:\n",
        "  rev+=stack.pop()\n",
        "print(rev)"
      ],
      "metadata": {
        "colab": {
          "base_uri": "https://localhost:8080/"
        },
        "id": "oIYTVpCYezmh",
        "outputId": "7e84db08-b1ad-40a9-da2e-cc20c66f448d"
      },
      "execution_count": 6,
      "outputs": [
        {
          "output_type": "stream",
          "name": "stdout",
          "text": [
            "skeeGroFskeeG\n"
          ]
        }
      ]
    },
    {
      "cell_type": "code",
      "source": [
        "def reverse(str):\n",
        "  if len(str)==0:\n",
        "    return str\n",
        "  return reverse(str[1:])+str[0]\n",
        "\n",
        "if __name__== '__main__':\n",
        "  str = 'GeeksForGeeks'\n",
        "  print(reverse(str))"
      ],
      "metadata": {
        "colab": {
          "base_uri": "https://localhost:8080/"
        },
        "id": "lmL_SbiFe-Dw",
        "outputId": "c1476dd8-fe3e-4a81-a98a-64e2f9eea418"
      },
      "execution_count": 8,
      "outputs": [
        {
          "output_type": "stream",
          "name": "stdout",
          "text": [
            "skeeGroFskeeG\n"
          ]
        }
      ]
    },
    {
      "cell_type": "code",
      "source": [],
      "metadata": {
        "id": "XRDhlGuif5FG"
      },
      "execution_count": null,
      "outputs": []
    }
  ]
}